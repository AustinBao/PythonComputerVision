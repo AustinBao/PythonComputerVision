{
 "cells": [
  {
   "cell_type": "code",
   "execution_count": 17,
   "metadata": {},
   "outputs": [],
   "source": [
    "import numpy as np\n",
    "import cv2 "
   ]
  },
  {
   "cell_type": "code",
   "execution_count": 50,
   "metadata": {},
   "outputs": [],
   "source": [
    "cap = cv2.VideoCapture(0)\n",
    "\n",
    "# take first frame of the video so we can detect the face at the start. WE only need to detect the face ONE time with mean shift as it will track the clusters for us.\n",
    "ret,frame = cap.read()\n",
    "\n",
    "face_cascade = cv2.CascadeClassifier(\"C:/OpenCV/DATA/haarcascades/haarcascade_frontalface_default.xml\")\n",
    "# face_rectangle is returned as a list of all the numpy arrays where it detects a face\n",
    "face_rectangle = face_cascade.detectMultiScale(frame)\n",
    "\n",
    "# turns the 4 points of the rectangle into a tuple so we can tuple unpack it. index[0] means it is the first face detected\n",
    "face_x,face_y,w,h = tuple(face_rectangle[0])\n",
    "track_window = (face_x,face_y,w,h) \n",
    "\n",
    "# grab face as the roi\n",
    "roi = frame[face_y:face_y+h, face_x:face_x+w]\n",
    "# turn to hsv\n",
    "hsv_roi = cv2.cvtColor(roi, cv2.COLOR_BGR2HSV)\n",
    "# find histogram to back project it to each frame to calculate mean shift\n",
    "roi_hist = cv2.calcHist([hsv_roi], [0], None, [180], [0,180])\n",
    "cv2.normalize(roi_hist, roi_hist, 0, 255, cv2.NORM_MINMAX)\n",
    "\n",
    "# Setup the termination criteria, either 10 iteration or move by at least 1 pt\n",
    "term_crit = ( cv2.TERM_CRITERIA_EPS | cv2.TERM_CRITERIA_COUNT, 10, 1 )\n",
    "\n",
    "while True:\n",
    "    ret ,frame = cap.read()\n",
    "    if ret == True:\n",
    "        \n",
    "        # Grab the Frame in HSV\n",
    "        hsv = cv2.cvtColor(frame, cv2.COLOR_BGR2HSV)\n",
    "        \n",
    "        # Calculate the Back Projection based off the roi_hist created earlier\n",
    "        dst = cv2.calcBackProject([hsv],[0],roi_hist,[0,180],1)\n",
    "        \n",
    " #############################################################################################\n",
    "        # # Apply meanshift to get the new coordinates of the rectangle\n",
    "        # ret, track_window = cv2.meanShift(dst, track_window, term_crit)\n",
    "        \n",
    "        # # Draw the new rectangle on the image\n",
    "        # x,y,w,h = track_window\n",
    "        # img2 = cv2.rectangle(frame, (x,y), (x+w,y+h), (0,0,255),5)\n",
    " #############################################################################################\n",
    "\n",
    "        ret, track_window = cv2.CamShift(dst, track_window, term_crit)\n",
    "\n",
    "        pts = cv2.boxPoints(ret)\n",
    "        pts = np.int0(pts)\n",
    "        img2 = cv2.polylines(frame,[pts],True,(0,0,255),5)\n",
    "\n",
    "        cv2.imshow('img2',img2)\n",
    "        \n",
    "        \n",
    "        k = cv2.waitKey(1) & 0xff\n",
    "        if k == 27:\n",
    "            break\n",
    "        \n",
    "    else:\n",
    "        break\n",
    "        \n",
    "cv2.destroyAllWindows()\n",
    "cap.release()\n",
    "\n"
   ]
  },
  {
   "cell_type": "code",
   "execution_count": null,
   "metadata": {},
   "outputs": [],
   "source": []
  },
  {
   "cell_type": "code",
   "execution_count": null,
   "metadata": {},
   "outputs": [],
   "source": []
  }
 ],
 "metadata": {
  "kernelspec": {
   "display_name": "python-cvcourse",
   "language": "python",
   "name": "python3"
  },
  "language_info": {
   "codemirror_mode": {
    "name": "ipython",
    "version": 3
   },
   "file_extension": ".py",
   "mimetype": "text/x-python",
   "name": "python",
   "nbconvert_exporter": "python",
   "pygments_lexer": "ipython3",
   "version": "3.6.13"
  },
  "orig_nbformat": 4
 },
 "nbformat": 4,
 "nbformat_minor": 2
}
