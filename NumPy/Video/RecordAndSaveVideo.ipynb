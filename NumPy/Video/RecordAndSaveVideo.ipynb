{
 "cells": [
  {
   "cell_type": "code",
   "execution_count": 9,
   "metadata": {},
   "outputs": [],
   "source": [
    "import cv2"
   ]
  },
  {
   "cell_type": "code",
   "execution_count": 10,
   "metadata": {},
   "outputs": [],
   "source": [
    "# we pass in 0 since that uses our default camera\n",
    "cap = cv2.VideoCapture(0)\n",
    "width = int(cap.get(cv2.CAP_PROP_FRAME_WIDTH)) # captures in floats (10.0 not 10)\n",
    "height = int(cap.get(cv2.CAP_PROP_FRAME_HEIGHT))"
   ]
  },
  {
   "cell_type": "code",
   "execution_count": 11,
   "metadata": {},
   "outputs": [],
   "source": [
    "# writer helps us save the video to a file path. if the path is unspecified, it just saves it to the current folder you are in.\n",
    "# Windows = *\"DIVX\" , Mac or whatever else = *\"XVID\"\n",
    "# the number 20 represents the frames per second\n",
    "writer  = cv2.VideoWriter(\"myfirstevervideo.mp4\", cv2.VideoWriter_fourcc(*'DIVX'), 20, (width,height))\n",
    "\n",
    "while True:\n",
    "    # returns a tuple that is why we tuple unpack here\n",
    "    ret, frame = cap.read()\n",
    "\n",
    "    writer.write(frame)\n",
    "\n",
    "    cv2.imshow('frame', frame)\n",
    "\n",
    "    if cv2.waitKey(1) & 0xFF == ord(\"q\"):\n",
    "        break\n",
    "\n",
    "cap.release()\n",
    "writer.release()\n",
    "cv2.destroyAllWindows()"
   ]
  }
 ],
 "metadata": {
  "kernelspec": {
   "display_name": "python-cvcourse",
   "language": "python",
   "name": "python3"
  },
  "language_info": {
   "codemirror_mode": {
    "name": "ipython",
    "version": 3
   },
   "file_extension": ".py",
   "mimetype": "text/x-python",
   "name": "python",
   "nbconvert_exporter": "python",
   "pygments_lexer": "ipython3",
   "version": "3.6.13"
  },
  "orig_nbformat": 4
 },
 "nbformat": 4,
 "nbformat_minor": 2
}
