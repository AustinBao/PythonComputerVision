{
 "cells": [
  {
   "cell_type": "code",
   "execution_count": 6,
   "metadata": {},
   "outputs": [],
   "source": [
    "import cv2"
   ]
  },
  {
   "cell_type": "code",
   "execution_count": 7,
   "metadata": {},
   "outputs": [],
   "source": [
    "#Global variables\n",
    "pt1=(0,0) #top left\n",
    "pt2=(0,0) #bottom right\n",
    "\n",
    "topleft_clicked = False\n",
    "botright_clicked = False"
   ]
  },
  {
   "cell_type": "code",
   "execution_count": 8,
   "metadata": {},
   "outputs": [],
   "source": [
    "#Functions\n",
    "def draw_rectangle(event,x,y,flags,param):\n",
    "\n",
    "    global pt1, pt2, topleft_clicked, botright_clicked\n",
    "\n",
    "    if event == cv2.EVENT_LBUTTONDOWN:\n",
    "\n",
    "        if topleft_clicked and botright_clicked:\n",
    "            # Reset rectangle \n",
    "            pt1=(0,0)\n",
    "            pt2=(0,0)\n",
    "            topleft_clicked = False\n",
    "            botright_clicked = False\n",
    "        \n",
    "        if topleft_clicked == False:\n",
    "            pt1 = (x,y)\n",
    "            topleft_clicked = True\n",
    "\n",
    "        elif botright_clicked == False:\n",
    "            pt2 = (x,y)\n",
    "            botright_clicked = True"
   ]
  },
  {
   "cell_type": "code",
   "execution_count": 9,
   "metadata": {},
   "outputs": [],
   "source": [
    "#Connect to callback\n",
    "cap = cv2.VideoCapture(0)\n",
    "\n",
    "cv2.namedWindow(\"Test\")\n",
    "cv2.setMouseCallback(\"Test\", draw_rectangle)"
   ]
  },
  {
   "cell_type": "code",
   "execution_count": 10,
   "metadata": {},
   "outputs": [],
   "source": [
    "while True:\n",
    "    ret, frame = cap.read()\n",
    "\n",
    "    #Draw on the frame\n",
    "    if topleft_clicked:                                 #BGR\n",
    "        cv2.circle(frame, center=pt1, radius=5, color=(0,0,255), thickness=-1)\n",
    "\n",
    "    if topleft_clicked and botright_clicked:\n",
    "        cv2.rectangle(frame, pt1,pt2,color=(0,0,255),thickness=3)\n",
    "\n",
    "\n",
    "    cv2.imshow('Test',frame)\n",
    "\n",
    "    if cv2.waitKey(10) & 0xFF == ord(\"q\"):\n",
    "        break\n",
    "\n",
    "cap.release()\n",
    "cv2.destroyAllWindows()"
   ]
  },
  {
   "cell_type": "code",
   "execution_count": null,
   "metadata": {},
   "outputs": [],
   "source": []
  }
 ],
 "metadata": {
  "kernelspec": {
   "display_name": "python-cvcourse",
   "language": "python",
   "name": "python3"
  },
  "language_info": {
   "codemirror_mode": {
    "name": "ipython",
    "version": 3
   },
   "file_extension": ".py",
   "mimetype": "text/x-python",
   "name": "python",
   "nbconvert_exporter": "python",
   "pygments_lexer": "ipython3",
   "version": "3.6.13"
  },
  "orig_nbformat": 4
 },
 "nbformat": 4,
 "nbformat_minor": 2
}
