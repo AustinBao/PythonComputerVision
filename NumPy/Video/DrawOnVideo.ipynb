{
 "cells": [
  {
   "cell_type": "code",
   "execution_count": 12,
   "metadata": {},
   "outputs": [],
   "source": [
    "import cv2"
   ]
  },
  {
   "cell_type": "code",
   "execution_count": 13,
   "metadata": {},
   "outputs": [],
   "source": [
    "cap = cv2.VideoCapture(0)\n",
    "\n",
    "width = int(cap.get(cv2.CAP_PROP_FRAME_WIDTH))\n",
    "height = int(cap.get(cv2.CAP_PROP_FRAME_HEIGHT))\n",
    "\n",
    "#TOP LEFT CORNER (we set it at the midd point of the frame)\n",
    "x = width // 2 # \"//\" makes the product a int, not a float\n",
    "y = height // 2\n",
    "\n",
    "#Width and Height of Rectangle (set it to a quarter of the whole frame)\n",
    "w = width // 4\n",
    "h = height // 4\n",
    "\n",
    "#BOTTOM RIGHT CORNER = x+w, y+h"
   ]
  },
  {
   "cell_type": "code",
   "execution_count": 15,
   "metadata": {},
   "outputs": [],
   "source": [
    "while True:\n",
    "    ret, frame = cap.read()\n",
    "\n",
    "    #order matters here, draw rectangle first before showing it\n",
    "    cv2.rectangle(frame, (x,y), (x+w,y+h), color = (0,255,0), thickness = 4)\n",
    "    cv2.imshow('frame',frame)\n",
    "\n",
    "    if cv2.waitKey(10) & 0xFF == ord(\"q\"):\n",
    "        break\n",
    "\n",
    "cap.release()\n",
    "cv2.destroyAllWindows()"
   ]
  },
  {
   "cell_type": "code",
   "execution_count": null,
   "metadata": {},
   "outputs": [],
   "source": []
  }
 ],
 "metadata": {
  "kernelspec": {
   "display_name": "python-cvcourse",
   "language": "python",
   "name": "python3"
  },
  "language_info": {
   "codemirror_mode": {
    "name": "ipython",
    "version": 3
   },
   "file_extension": ".py",
   "mimetype": "text/x-python",
   "name": "python",
   "nbconvert_exporter": "python",
   "pygments_lexer": "ipython3",
   "version": "3.6.13"
  },
  "orig_nbformat": 4
 },
 "nbformat": 4,
 "nbformat_minor": 2
}
