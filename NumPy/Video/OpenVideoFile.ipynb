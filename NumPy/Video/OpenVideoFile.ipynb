{
 "cells": [
  {
   "cell_type": "code",
   "execution_count": 29,
   "metadata": {},
   "outputs": [],
   "source": [
    "import cv2\n",
    "import time"
   ]
  },
  {
   "cell_type": "code",
   "execution_count": 30,
   "metadata": {},
   "outputs": [],
   "source": [
    "cap = cv2.VideoCapture(\"myfirstevervideo.mp4\")\n",
    "\n",
    "# tests if we were not able to open file/give the correct file path/ wrong CODEC (this thing *'DIVX')\n",
    "if cap.isOpened() == False:\n",
    "    print(\"cant open video file or wrong CODEC used\")"
   ]
  },
  {
   "cell_type": "code",
   "execution_count": 31,
   "metadata": {},
   "outputs": [],
   "source": [
    "\n",
    "# the video goes by very fast since computers only need to see the frame for a bit; not built for viewing purposes\n",
    "while cap.isOpened():\n",
    "    ret, frame = cap.read()\n",
    "    if ret == True:\n",
    "\n",
    "        # HOW TO MAKE THE VIDEO PLAY AT HUMAN SPEED!\n",
    "        # remeber writer was set to 20 fps. \"sleep\" sets a delay. \n",
    "        time.sleep(1/200)\n",
    "\n",
    "        cv2.imshow(\"frame\", frame)\n",
    "        if cv2.waitKey(10) & 0xFF == ord(\"q\"):\n",
    "            break\n",
    "    else: \n",
    "        break\n",
    "\n",
    "cap.release()\n",
    "cv2.destroyAllWindows()"
   ]
  },
  {
   "cell_type": "code",
   "execution_count": null,
   "metadata": {},
   "outputs": [],
   "source": []
  }
 ],
 "metadata": {
  "kernelspec": {
   "display_name": "python-cvcourse",
   "language": "python",
   "name": "python3"
  },
  "language_info": {
   "codemirror_mode": {
    "name": "ipython",
    "version": 3
   },
   "file_extension": ".py",
   "mimetype": "text/x-python",
   "name": "python",
   "nbconvert_exporter": "python",
   "pygments_lexer": "ipython3",
   "version": "3.6.13"
  },
  "orig_nbformat": 4
 },
 "nbformat": 4,
 "nbformat_minor": 2
}
