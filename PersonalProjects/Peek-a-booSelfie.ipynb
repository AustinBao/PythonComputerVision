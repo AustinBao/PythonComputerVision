{
 "cells": [
  {
   "cell_type": "code",
   "execution_count": 69,
   "metadata": {},
   "outputs": [],
   "source": [
    "import cv2\n",
    "import numpy as np\n",
    "import matplotlib.pyplot as plt\n",
    "%matplotlib inline"
   ]
  },
  {
   "cell_type": "code",
   "execution_count": 70,
   "metadata": {},
   "outputs": [],
   "source": [
    "# could also have it take a pic when we smile.\n",
    "eye_cascade = cv2.CascadeClassifier(\"C:/OpenCV/DATA/haarcascades/haarcascade_eye.xml\")"
   ]
  },
  {
   "cell_type": "code",
   "execution_count": 71,
   "metadata": {},
   "outputs": [],
   "source": [
    "eyes_Detected = True"
   ]
  },
  {
   "cell_type": "code",
   "execution_count": 72,
   "metadata": {},
   "outputs": [],
   "source": [
    "def detect_eyes(frame):\n",
    "    eyes_and_face = frame.copy()\n",
    "\n",
    "    eye_rectangle = eye_cascade.detectMultiScale(eyes_and_face, scaleFactor = 1.8, minNeighbors = 8)\n",
    "    \n",
    "    num_eyes = len(eye_rectangle)\n",
    "\n",
    "    for (x,y,w,h) in eye_rectangle:\n",
    "        cv2.rectangle(eyes_and_face,(x,y), (x+w,y+h), (255,255,255), 10)\n",
    "\n",
    "    return eyes_and_face, num_eyes"
   ]
  },
  {
   "cell_type": "code",
   "execution_count": 75,
   "metadata": {},
   "outputs": [],
   "source": [
    "cap = cv2.VideoCapture(0)\n",
    "\n",
    "while True:\n",
    "    ret, frame = cap.read(0)\n",
    "\n",
    "    frame, num_eyes = detect_eyes(frame)\n",
    "\n",
    "    if num_eyes == 0:\n",
    "        cv2.imwrite('C:/OpenCV/DATA/PeekABoo/test.png', frame)\n",
    "\n",
    "    cv2.imshow(\"Video face detect\", frame)\n",
    "\n",
    "    k = cv2.waitKey(1)\n",
    "    if k == 27:\n",
    "        break\n",
    "\n",
    "cap.release()\n",
    "cv2.destroyAllWindows()"
   ]
  },
  {
   "cell_type": "code",
   "execution_count": null,
   "metadata": {},
   "outputs": [],
   "source": []
  }
 ],
 "metadata": {
  "kernelspec": {
   "display_name": "python-cvcourse",
   "language": "python",
   "name": "python3"
  },
  "language_info": {
   "codemirror_mode": {
    "name": "ipython",
    "version": 3
   },
   "file_extension": ".py",
   "mimetype": "text/x-python",
   "name": "python",
   "nbconvert_exporter": "python",
   "pygments_lexer": "ipython3",
   "version": "3.6.13"
  },
  "orig_nbformat": 4
 },
 "nbformat": 4,
 "nbformat_minor": 2
}
